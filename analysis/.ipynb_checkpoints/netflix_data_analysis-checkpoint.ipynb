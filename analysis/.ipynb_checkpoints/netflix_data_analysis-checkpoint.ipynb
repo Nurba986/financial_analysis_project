{
 "cells": [
  {
   "cell_type": "markdown",
   "id": "186a97b4-8be5-4f45-ac2a-095282e74415",
   "metadata": {
    "jp-MarkdownHeadingCollapsed": true
   },
   "source": [
    "# Netflix data analysis \n"
   ]
  },
  {
   "cell_type": "markdown",
   "id": "5ebb5e6b-b32f-4c3f-9752-b506e4bf6183",
   "metadata": {
    "jp-MarkdownHeadingCollapsed": true
   },
   "source": [
    "# Preparing data for analysis"
   ]
  },
  {
   "cell_type": "markdown",
   "id": "75054c28-0e7e-4252-8efd-171e8fc269cc",
   "metadata": {
    "jp-MarkdownHeadingCollapsed": true
   },
   "source": [
    "## Reading the dataset"
   ]
  },
  {
   "cell_type": "code",
   "execution_count": 27,
   "id": "c03428f4-5ca1-4ae5-ab68-e8d92819232c",
   "metadata": {},
   "outputs": [],
   "source": [
    "import pandas as pd\n",
    "import numpy as np"
   ]
  },
  {
   "cell_type": "code",
   "execution_count": 28,
   "id": "5bc097b5-09f1-45aa-ba1a-bdcdb02c8c4d",
   "metadata": {},
   "outputs": [],
   "source": [
    "file_path = (r'C:\\Users\\arailym\\PycharmProjects\\database analysis\\data\\netflix_data.csv')\n",
    "netflix_data = pd.read_csv(file_path)"
   ]
  },
  {
   "cell_type": "code",
   "execution_count": 29,
   "id": "903751bf-7b38-4f34-942f-d2e2e2d41825",
   "metadata": {},
   "outputs": [
    {
     "data": {
      "text/plain": [
       "(8793, 10)"
      ]
     },
     "execution_count": 29,
     "metadata": {},
     "output_type": "execute_result"
    }
   ],
   "source": [
    "netflix_data.shape"
   ]
  },
  {
   "cell_type": "code",
   "execution_count": 94,
   "id": "53e0609b-f307-4a2f-90b8-24f0fa83527b",
   "metadata": {},
   "outputs": [
    {
     "name": "stdout",
     "output_type": "stream",
     "text": [
      "<class 'pandas.core.frame.DataFrame'>\n",
      "Index: 2659 entries, 1 to 8789\n",
      "Data columns (total 13 columns):\n",
      " #   Column                 Non-Null Count  Dtype         \n",
      "---  ------                 --------------  -----         \n",
      " 0   show_id                2659 non-null   object        \n",
      " 1   type                   2659 non-null   category      \n",
      " 2   title                  2659 non-null   object        \n",
      " 3   director               2659 non-null   object        \n",
      " 4   country                2659 non-null   object        \n",
      " 5   date_added             2659 non-null   datetime64[ns]\n",
      " 6   release_year           2659 non-null   int64         \n",
      " 7   rating                 2659 non-null   category      \n",
      " 8   listed_in              2659 non-null   category      \n",
      " 9   seasons                2659 non-null   float64       \n",
      " 10  duration_min           2659 non-null   float64       \n",
      " 11  decade                 2659 non-null   int64         \n",
      " 12  movie_length_category  2659 non-null   category      \n",
      "dtypes: category(4), datetime64[ns](1), float64(2), int64(2), object(4)\n",
      "memory usage: 241.8+ KB\n"
     ]
    }
   ],
   "source": [
    "netflix_data.info()"
   ]
  },
  {
   "cell_type": "code",
   "execution_count": 44,
   "id": "94dcbdfc-7eb6-4b3d-8d1f-63c68c17e0b0",
   "metadata": {},
   "outputs": [
    {
     "data": {
      "text/html": [
       "<div>\n",
       "<style scoped>\n",
       "    .dataframe tbody tr th:only-of-type {\n",
       "        vertical-align: middle;\n",
       "    }\n",
       "\n",
       "    .dataframe tbody tr th {\n",
       "        vertical-align: top;\n",
       "    }\n",
       "\n",
       "    .dataframe thead th {\n",
       "        text-align: right;\n",
       "    }\n",
       "</style>\n",
       "<table border=\"1\" class=\"dataframe\">\n",
       "  <thead>\n",
       "    <tr style=\"text-align: right;\">\n",
       "      <th></th>\n",
       "      <th>show_id</th>\n",
       "      <th>type</th>\n",
       "      <th>title</th>\n",
       "      <th>director</th>\n",
       "      <th>country</th>\n",
       "      <th>date_added</th>\n",
       "      <th>release_year</th>\n",
       "      <th>rating</th>\n",
       "      <th>listed_in</th>\n",
       "      <th>seasons</th>\n",
       "      <th>duration_min</th>\n",
       "      <th>decade</th>\n",
       "      <th>movie_length_category</th>\n",
       "    </tr>\n",
       "  </thead>\n",
       "  <tbody>\n",
       "    <tr>\n",
       "      <th>0</th>\n",
       "      <td>s1</td>\n",
       "      <td>Movie</td>\n",
       "      <td>Dick Johnson Is Dead</td>\n",
       "      <td>Kirsten Johnson</td>\n",
       "      <td>United States</td>\n",
       "      <td>2021-09-25</td>\n",
       "      <td>2020</td>\n",
       "      <td>PG-13</td>\n",
       "      <td>Documentaries</td>\n",
       "      <td>NaN</td>\n",
       "      <td>90.0</td>\n",
       "      <td>2020</td>\n",
       "      <td>Medium</td>\n",
       "    </tr>\n",
       "    <tr>\n",
       "      <th>1</th>\n",
       "      <td>s3</td>\n",
       "      <td>TV Show</td>\n",
       "      <td>Ganglands</td>\n",
       "      <td>Julien Leclercq</td>\n",
       "      <td>France</td>\n",
       "      <td>2021-09-24</td>\n",
       "      <td>2021</td>\n",
       "      <td>TV-MA</td>\n",
       "      <td>Crime TV Shows, International TV Shows, TV Act...</td>\n",
       "      <td>1.0</td>\n",
       "      <td>0.0</td>\n",
       "      <td>2020</td>\n",
       "      <td>Short</td>\n",
       "    </tr>\n",
       "    <tr>\n",
       "      <th>2</th>\n",
       "      <td>s6</td>\n",
       "      <td>TV Show</td>\n",
       "      <td>Midnight Mass</td>\n",
       "      <td>Mike Flanagan</td>\n",
       "      <td>United States</td>\n",
       "      <td>2021-09-24</td>\n",
       "      <td>2021</td>\n",
       "      <td>TV-MA</td>\n",
       "      <td>TV Dramas, TV Horror, TV Mysteries</td>\n",
       "      <td>1.0</td>\n",
       "      <td>0.0</td>\n",
       "      <td>2020</td>\n",
       "      <td>Short</td>\n",
       "    </tr>\n",
       "    <tr>\n",
       "      <th>3</th>\n",
       "      <td>s14</td>\n",
       "      <td>Movie</td>\n",
       "      <td>Confessions of an Invisible Girl</td>\n",
       "      <td>Bruno Garotti</td>\n",
       "      <td>Brazil</td>\n",
       "      <td>2021-09-22</td>\n",
       "      <td>2021</td>\n",
       "      <td>TV-PG</td>\n",
       "      <td>Children &amp; Family Movies, Comedies</td>\n",
       "      <td>NaN</td>\n",
       "      <td>91.0</td>\n",
       "      <td>2020</td>\n",
       "      <td>Medium</td>\n",
       "    </tr>\n",
       "    <tr>\n",
       "      <th>4</th>\n",
       "      <td>s8</td>\n",
       "      <td>Movie</td>\n",
       "      <td>Sankofa</td>\n",
       "      <td>Haile Gerima</td>\n",
       "      <td>United States</td>\n",
       "      <td>2021-09-24</td>\n",
       "      <td>1993</td>\n",
       "      <td>TV-MA</td>\n",
       "      <td>Dramas, Independent Movies, International Movies</td>\n",
       "      <td>NaN</td>\n",
       "      <td>125.0</td>\n",
       "      <td>1990</td>\n",
       "      <td>Long</td>\n",
       "    </tr>\n",
       "  </tbody>\n",
       "</table>\n",
       "</div>"
      ],
      "text/plain": [
       "  show_id     type                             title         director  \\\n",
       "0      s1    Movie              Dick Johnson Is Dead  Kirsten Johnson   \n",
       "1      s3  TV Show                         Ganglands  Julien Leclercq   \n",
       "2      s6  TV Show                     Midnight Mass    Mike Flanagan   \n",
       "3     s14    Movie  Confessions of an Invisible Girl    Bruno Garotti   \n",
       "4      s8    Movie                           Sankofa     Haile Gerima   \n",
       "\n",
       "         country date_added  release_year rating  \\\n",
       "0  United States 2021-09-25          2020  PG-13   \n",
       "1         France 2021-09-24          2021  TV-MA   \n",
       "2  United States 2021-09-24          2021  TV-MA   \n",
       "3         Brazil 2021-09-22          2021  TV-PG   \n",
       "4  United States 2021-09-24          1993  TV-MA   \n",
       "\n",
       "                                           listed_in  seasons  duration_min  \\\n",
       "0                                      Documentaries      NaN          90.0   \n",
       "1  Crime TV Shows, International TV Shows, TV Act...      1.0           0.0   \n",
       "2                 TV Dramas, TV Horror, TV Mysteries      1.0           0.0   \n",
       "3                 Children & Family Movies, Comedies      NaN          91.0   \n",
       "4   Dramas, Independent Movies, International Movies      NaN         125.0   \n",
       "\n",
       "   decade movie_length_category  \n",
       "0    2020                Medium  \n",
       "1    2020                 Short  \n",
       "2    2020                 Short  \n",
       "3    2020                Medium  \n",
       "4    1990                  Long  "
      ]
     },
     "execution_count": 44,
     "metadata": {},
     "output_type": "execute_result"
    }
   ],
   "source": [
    "netflix_data.head()"
   ]
  },
  {
   "cell_type": "markdown",
   "id": "262d98ed-6e6c-42e3-a67b-d4faa54e63a8",
   "metadata": {},
   "source": [
    "## Dataset cleaning"
   ]
  },
  {
   "cell_type": "markdown",
   "id": "9b8b4fa1-c11e-4bba-9593-96a3ca6e2893",
   "metadata": {
    "jp-MarkdownHeadingCollapsed": true
   },
   "source": [
    "### Missing values"
   ]
  },
  {
   "cell_type": "code",
   "execution_count": 69,
   "id": "f7c357c4-d1aa-4414-b768-1d1afeab9e3a",
   "metadata": {},
   "outputs": [
    {
     "data": {
      "text/plain": [
       "show_id                  0\n",
       "type                     0\n",
       "title                    0\n",
       "director                 0\n",
       "country                  0\n",
       "date_added               0\n",
       "release_year             0\n",
       "rating                   0\n",
       "listed_in                0\n",
       "seasons                  0\n",
       "duration_min             0\n",
       "decade                   0\n",
       "movie_length_category    0\n",
       "dtype: int64"
      ]
     },
     "execution_count": 69,
     "metadata": {},
     "output_type": "execute_result"
    }
   ],
   "source": [
    "# identify missing values\n",
    "netflix_data.isnull().sum()"
   ]
  },
  {
   "cell_type": "code",
   "execution_count": 68,
   "id": "27fc2c19-012c-4dd3-846f-cad9003ca393",
   "metadata": {},
   "outputs": [
    {
     "data": {
      "text/plain": [
       "(2659, 13)"
      ]
     },
     "execution_count": 68,
     "metadata": {},
     "output_type": "execute_result"
    }
   ],
   "source": [
    "# deleting missing values, which are few in 1 column\n",
    "netflix_data.dropna(subset=['title', 'director', 'release_year', 'listed_in', 'date_added', 'seasons'], inplace=True)\n",
    "\n",
    "# replacing missing values, which are a lot in 1 column\n",
    "netflix_data.fillna({'director': 'Unknown', 'country': 'Unknwon', 'duration': 'Unknown'}, inplace=True)\n",
    "\n",
    "# check deleted rows\n",
    "netflix_data.shape"
   ]
  },
  {
   "cell_type": "markdown",
   "id": "c0bf7416-a74d-4942-8392-a5a1148c5723",
   "metadata": {},
   "source": [
    "### Date formatting"
   ]
  },
  {
   "cell_type": "code",
   "execution_count": 99,
   "id": "50e04088-c8ac-4339-829a-621de6528257",
   "metadata": {},
   "outputs": [],
   "source": [
    "netflix_data['date_added'] = pd.to_datetime(netflix_data['date_added'], errors='coerce')"
   ]
  },
  {
   "cell_type": "markdown",
   "id": "20dfe8e8-925b-4020-9503-8fe253926dce",
   "metadata": {
    "jp-MarkdownHeadingCollapsed": true
   },
   "source": [
    "### Duration standartisation"
   ]
  },
  {
   "cell_type": "code",
   "execution_count": 35,
   "id": "f3a96c32-ea50-40d0-b911-6e19c5a29cf8",
   "metadata": {},
   "outputs": [],
   "source": [
    "# separate values in duration columns and drop original duration column\n",
    "netflix_data['seasons'] = netflix_data['duration'].apply(lambda x: int(x.split(' ')[0]) if 'Season' in x else None)\n",
    "netflix_data['duration_min'] = netflix_data['duration'].apply(lambda x: int(x.split(' ')[0]) if 'min' in x else None)\n",
    "netflix_data.drop(columns=['duration'], inplace=True)"
   ]
  },
  {
   "cell_type": "markdown",
   "id": "2f818af8-3190-49a5-9820-01aac1be4728",
   "metadata": {
    "jp-MarkdownHeadingCollapsed": true
   },
   "source": [
    "### Delete duplicate rows\n"
   ]
  },
  {
   "cell_type": "code",
   "execution_count": 36,
   "id": "34816dba-f76c-4073-88ad-4742fc1e243c",
   "metadata": {},
   "outputs": [
    {
     "data": {
      "text/plain": [
       "(8786, 11)"
      ]
     },
     "execution_count": 36,
     "metadata": {},
     "output_type": "execute_result"
    }
   ],
   "source": [
    "netflix_data.drop_duplicates(inplace=True)\n",
    "netflix_data.shape"
   ]
  },
  {
   "cell_type": "markdown",
   "id": "c574638f-a3aa-4e49-8fe7-d3278dcb5f58",
   "metadata": {
    "jp-MarkdownHeadingCollapsed": true
   },
   "source": [
    "### Data transformation\n"
   ]
  },
  {
   "cell_type": "code",
   "execution_count": 38,
   "id": "1e561031-9963-4353-b205-a80c93804634",
   "metadata": {},
   "outputs": [],
   "source": [
    "# converting to categorical encoding\n",
    "netflix_data[['type', 'rating', 'listed_in']] = netflix_data[['type', 'rating', 'listed_in']].astype('category')\n",
    "\n",
    "# converting column to integer\n",
    "netflix_data['release_year'] = netflix_data['release_year'].astype(int)\n",
    "\n",
    "# grouping 'release_year' column by decade\n",
    "netflix_data['decade'] = (netflix_data['release_year'] // 10) * 10\n",
    "\n"
   ]
  },
  {
   "cell_type": "code",
   "execution_count": 39,
   "id": "9bcd71bf-c318-4142-b417-cb71c966c1b9",
   "metadata": {},
   "outputs": [
    {
     "name": "stderr",
     "output_type": "stream",
     "text": [
      "C:\\Users\\arailym\\AppData\\Local\\Temp\\ipykernel_1844\\2180078549.py:3: FutureWarning: A value is trying to be set on a copy of a DataFrame or Series through chained assignment using an inplace method.\n",
      "The behavior will change in pandas 3.0. This inplace method will never work because the intermediate object on which we are setting values always behaves as a copy.\n",
      "\n",
      "For example, when doing 'df[col].method(value, inplace=True)', try using 'df.method({col: value}, inplace=True)' or df[col] = df[col].method(value) instead, to perform the operation inplace on the original object.\n",
      "\n",
      "\n",
      "  netflix_data['duration_min'].fillna(0, inplace=True)  # replace Nan values to 0\n"
     ]
    }
   ],
   "source": [
    "# grouping movies by length\n",
    "netflix_data['duration_min'] = pd.to_numeric(netflix_data['duration_min'], errors='coerce') # convert the 'duration_min' column to numeric, coercing errors to NaN\n",
    "netflix_data['duration_min'].fillna(0, inplace=True)  # replace Nan values to 0\n",
    "\n",
    "# Define bins and labels\n",
    "bins = [0, 90, 120, float('inf')]  \n",
    "labels = ['Short', 'Medium', 'Long']  \n",
    "\n",
    "# Create a new column 'length_category' based on the bins\n",
    "netflix_data['movie_length_category'] = pd.cut(netflix_data['duration_min'], bins=bins, labels=labels, right=False)"
   ]
  },
  {
   "cell_type": "markdown",
   "id": "3bc613ed-6dbc-4e7d-90db-8f5e0066bd48",
   "metadata": {},
   "source": [
    "## Save cleaned dataframe"
   ]
  },
  {
   "cell_type": "code",
   "execution_count": 100,
   "id": "ccb88b91-d42d-43eb-8f32-e7d30352fc26",
   "metadata": {},
   "outputs": [],
   "source": [
    "netflix_data.to_csv(r'C:\\Users\\arailym\\PycharmProjects\\database analysis\\data\\netflix_data_analysis_cleaned_and_transformed.csv', index=False)"
   ]
  },
  {
   "cell_type": "markdown",
   "id": "38dd34a3-b831-45bb-9162-a9220282a20a",
   "metadata": {},
   "source": [
    "# Data analysis\n"
   ]
  },
  {
   "cell_type": "code",
   "execution_count": 3,
   "id": "c2967020-583e-40cc-8fab-4f29f09c5df8",
   "metadata": {},
   "outputs": [
    {
     "data": {
      "text/html": [
       "<div>\n",
       "<style scoped>\n",
       "    .dataframe tbody tr th:only-of-type {\n",
       "        vertical-align: middle;\n",
       "    }\n",
       "\n",
       "    .dataframe tbody tr th {\n",
       "        vertical-align: top;\n",
       "    }\n",
       "\n",
       "    .dataframe thead th {\n",
       "        text-align: right;\n",
       "    }\n",
       "</style>\n",
       "<table border=\"1\" class=\"dataframe\">\n",
       "  <thead>\n",
       "    <tr style=\"text-align: right;\">\n",
       "      <th></th>\n",
       "      <th>show_id</th>\n",
       "      <th>type</th>\n",
       "      <th>title</th>\n",
       "      <th>director</th>\n",
       "      <th>country</th>\n",
       "      <th>date_added</th>\n",
       "      <th>release_year</th>\n",
       "      <th>rating</th>\n",
       "      <th>listed_in</th>\n",
       "      <th>seasons</th>\n",
       "      <th>duration_min</th>\n",
       "      <th>decade</th>\n",
       "      <th>movie_length_category</th>\n",
       "    </tr>\n",
       "  </thead>\n",
       "  <tbody>\n",
       "    <tr>\n",
       "      <th>0</th>\n",
       "      <td>s3</td>\n",
       "      <td>TV Show</td>\n",
       "      <td>Ganglands</td>\n",
       "      <td>Julien Leclercq</td>\n",
       "      <td>France</td>\n",
       "      <td>2021-09-24</td>\n",
       "      <td>2021</td>\n",
       "      <td>TV-MA</td>\n",
       "      <td>Crime TV Shows, International TV Shows, TV Act...</td>\n",
       "      <td>1.0</td>\n",
       "      <td>0.0</td>\n",
       "      <td>2020</td>\n",
       "      <td>Short</td>\n",
       "    </tr>\n",
       "    <tr>\n",
       "      <th>1</th>\n",
       "      <td>s6</td>\n",
       "      <td>TV Show</td>\n",
       "      <td>Midnight Mass</td>\n",
       "      <td>Mike Flanagan</td>\n",
       "      <td>United States</td>\n",
       "      <td>2021-09-24</td>\n",
       "      <td>2021</td>\n",
       "      <td>TV-MA</td>\n",
       "      <td>TV Dramas, TV Horror, TV Mysteries</td>\n",
       "      <td>1.0</td>\n",
       "      <td>0.0</td>\n",
       "      <td>2020</td>\n",
       "      <td>Short</td>\n",
       "    </tr>\n",
       "    <tr>\n",
       "      <th>2</th>\n",
       "      <td>s9</td>\n",
       "      <td>TV Show</td>\n",
       "      <td>The Great British Baking Show</td>\n",
       "      <td>Andy Devonshire</td>\n",
       "      <td>United Kingdom</td>\n",
       "      <td>2021-09-24</td>\n",
       "      <td>2021</td>\n",
       "      <td>TV-14</td>\n",
       "      <td>British TV Shows, Reality TV</td>\n",
       "      <td>9.0</td>\n",
       "      <td>0.0</td>\n",
       "      <td>2020</td>\n",
       "      <td>Short</td>\n",
       "    </tr>\n",
       "    <tr>\n",
       "      <th>3</th>\n",
       "      <td>s4</td>\n",
       "      <td>TV Show</td>\n",
       "      <td>Jailbirds New Orleans</td>\n",
       "      <td>Unknown</td>\n",
       "      <td>Pakistan</td>\n",
       "      <td>2021-09-24</td>\n",
       "      <td>2021</td>\n",
       "      <td>TV-MA</td>\n",
       "      <td>Docuseries, Reality TV</td>\n",
       "      <td>1.0</td>\n",
       "      <td>0.0</td>\n",
       "      <td>2020</td>\n",
       "      <td>Short</td>\n",
       "    </tr>\n",
       "    <tr>\n",
       "      <th>4</th>\n",
       "      <td>s15</td>\n",
       "      <td>TV Show</td>\n",
       "      <td>Crime Stories: India Detectives</td>\n",
       "      <td>Unknown</td>\n",
       "      <td>Pakistan</td>\n",
       "      <td>2021-09-22</td>\n",
       "      <td>2021</td>\n",
       "      <td>TV-MA</td>\n",
       "      <td>British TV Shows, Crime TV Shows, Docuseries</td>\n",
       "      <td>1.0</td>\n",
       "      <td>0.0</td>\n",
       "      <td>2020</td>\n",
       "      <td>Short</td>\n",
       "    </tr>\n",
       "  </tbody>\n",
       "</table>\n",
       "</div>"
      ],
      "text/plain": [
       "  show_id     type                            title         director  \\\n",
       "0      s3  TV Show                        Ganglands  Julien Leclercq   \n",
       "1      s6  TV Show                    Midnight Mass    Mike Flanagan   \n",
       "2      s9  TV Show    The Great British Baking Show  Andy Devonshire   \n",
       "3      s4  TV Show            Jailbirds New Orleans          Unknown   \n",
       "4     s15  TV Show  Crime Stories: India Detectives          Unknown   \n",
       "\n",
       "          country  date_added  release_year rating  \\\n",
       "0          France  2021-09-24          2021  TV-MA   \n",
       "1   United States  2021-09-24          2021  TV-MA   \n",
       "2  United Kingdom  2021-09-24          2021  TV-14   \n",
       "3        Pakistan  2021-09-24          2021  TV-MA   \n",
       "4        Pakistan  2021-09-22          2021  TV-MA   \n",
       "\n",
       "                                           listed_in  seasons  duration_min  \\\n",
       "0  Crime TV Shows, International TV Shows, TV Act...      1.0           0.0   \n",
       "1                 TV Dramas, TV Horror, TV Mysteries      1.0           0.0   \n",
       "2                       British TV Shows, Reality TV      9.0           0.0   \n",
       "3                             Docuseries, Reality TV      1.0           0.0   \n",
       "4       British TV Shows, Crime TV Shows, Docuseries      1.0           0.0   \n",
       "\n",
       "   decade movie_length_category  \n",
       "0    2020                 Short  \n",
       "1    2020                 Short  \n",
       "2    2020                 Short  \n",
       "3    2020                 Short  \n",
       "4    2020                 Short  "
      ]
     },
     "execution_count": 3,
     "metadata": {},
     "output_type": "execute_result"
    }
   ],
   "source": [
    "import pandas as pd\n",
    "file_path = (r'C:\\Users\\arailym\\PycharmProjects\\database analysis\\data\\netflix_data_analysis_cleaned_and_transformed.csv')\n",
    "nf_df = pd.read_csv(file_path)\n",
    "nf_df.head()\n"
   ]
  },
  {
   "cell_type": "code",
   "execution_count": 97,
   "id": "6edb1693-1ea0-4887-a985-297f01c7c1db",
   "metadata": {},
   "outputs": [
    {
     "data": {
      "text/plain": [
       "show_id                  0\n",
       "type                     0\n",
       "title                    0\n",
       "director                 0\n",
       "country                  0\n",
       "date_added               0\n",
       "release_year             0\n",
       "rating                   0\n",
       "listed_in                0\n",
       "seasons                  0\n",
       "duration_min             0\n",
       "decade                   0\n",
       "movie_length_category    0\n",
       "dtype: int64"
      ]
     },
     "execution_count": 97,
     "metadata": {},
     "output_type": "execute_result"
    }
   ],
   "source": [
    "# identify missing values\n",
    "nf_df.isnull().sum()"
   ]
  },
  {
   "cell_type": "code",
   "execution_count": 102,
   "id": "c4af9eb2-a2c9-424e-bfdf-d23f27e212e1",
   "metadata": {},
   "outputs": [
    {
     "name": "stdout",
     "output_type": "stream",
     "text": [
      "<class 'pandas.core.frame.DataFrame'>\n",
      "RangeIndex: 2659 entries, 0 to 2658\n",
      "Data columns (total 13 columns):\n",
      " #   Column                 Non-Null Count  Dtype  \n",
      "---  ------                 --------------  -----  \n",
      " 0   show_id                2659 non-null   object \n",
      " 1   type                   2659 non-null   object \n",
      " 2   title                  2659 non-null   object \n",
      " 3   director               2659 non-null   object \n",
      " 4   country                2659 non-null   object \n",
      " 5   date_added             2659 non-null   object \n",
      " 6   release_year           2659 non-null   int64  \n",
      " 7   rating                 2659 non-null   object \n",
      " 8   listed_in              2659 non-null   object \n",
      " 9   seasons                2659 non-null   float64\n",
      " 10  duration_min           2659 non-null   float64\n",
      " 11  decade                 2659 non-null   int64  \n",
      " 12  movie_length_category  2659 non-null   object \n",
      "dtypes: float64(2), int64(2), object(9)\n",
      "memory usage: 270.2+ KB\n"
     ]
    }
   ],
   "source": [
    "nf_df.info()"
   ]
  },
  {
   "cell_type": "code",
   "execution_count": 89,
   "id": "f0175474-ea57-462b-b069-f0c19e80befd",
   "metadata": {},
   "outputs": [
    {
     "name": "stdout",
     "output_type": "stream",
     "text": [
      "listed_in\n",
      "International TV Shows    1348\n",
      "TV Dramas                  761\n",
      "TV Comedies                573\n",
      "Crime TV Shows             468\n",
      "Kids' TV                   447\n",
      "Name: count, dtype: int64\n"
     ]
    }
   ],
   "source": [
    "# top 5 genres\n",
    "genres = nf_df['listed_in'].str.split(',').explode().str.strip()\n",
    "genre_counts = genres.value_counts()\n",
    "top_5_genres = genre_counts.head(5)\n",
    "print(top_5_genres)"
   ]
  },
  {
   "cell_type": "code",
   "execution_count": 81,
   "id": "48b8331d-ff66-4a4c-aaf9-15d6d76405f9",
   "metadata": {},
   "outputs": [
    {
     "name": "stdout",
     "output_type": "stream",
     "text": [
      "country\n",
      "United States     845\n",
      "Pakistan          346\n",
      "United Kingdom    249\n",
      "Japan             172\n",
      "South Korea       165\n",
      "Name: count, dtype: int64\n"
     ]
    }
   ],
   "source": [
    "# country contribution\n",
    "country_counts = nf_df['country'].value_counts().head(5)\n",
    "print(country_counts)"
   ]
  },
  {
   "cell_type": "code",
   "execution_count": 90,
   "id": "37b5fb45-85ca-4c97-8314-06bc4d40e044",
   "metadata": {},
   "outputs": [
    {
     "name": "stdout",
     "output_type": "stream",
     "text": [
      "      type    rating  count\n",
      "0  TV Show        NR      4\n",
      "1  TV Show         R      2\n",
      "2  TV Show     TV-14    730\n",
      "3  TV Show      TV-G     94\n",
      "4  TV Show     TV-MA   1141\n",
      "5  TV Show     TV-PG    320\n",
      "6  TV Show      TV-Y    175\n",
      "7  TV Show     TV-Y7    192\n",
      "8  TV Show  TV-Y7-FV      1\n"
     ]
    }
   ],
   "source": [
    "# rating distribution\n",
    "rating_distribution = nf_df.groupby(['type', 'rating']).size().reset_index(name = 'count')\n",
    "print(rating_distribution)"
   ]
  },
  {
   "cell_type": "code",
   "execution_count": 91,
   "id": "40975d20-bb44-41f4-bf81-2b71ea4211c7",
   "metadata": {},
   "outputs": [
    {
     "name": "stdout",
     "output_type": "stream",
     "text": [
      "                       director  type\n",
      "0                     Not Given  2362\n",
      "1                       Unknown    49\n",
      "2           Alastair Fothergill    14\n",
      "3  Mark Thornton, Todd Kauffman     5\n",
      "4                   Stan Lathan     3\n"
     ]
    }
   ],
   "source": [
    "# top 5 directors\n",
    "directors = nf_df['director'].value_counts().reset_index()\n",
    "directors.columns = ['director', 'type']\n",
    "top_5 = directors.head(5)\n",
    "\n",
    "print(top_5)"
   ]
  },
  {
   "cell_type": "code",
   "execution_count": 107,
   "id": "f4c658fb-218a-4c5f-8002-ba4c4b618063",
   "metadata": {},
   "outputs": [
    {
     "name": "stdout",
     "output_type": "stream",
     "text": [
      "    release_year  title_count\n",
      "0           1925            1\n",
      "1           1945            1\n",
      "2           1946            1\n",
      "3           1963            1\n",
      "4           1967            1\n",
      "5           1972            1\n",
      "6           1974            1\n",
      "7           1977            1\n",
      "8           1979            1\n",
      "9           1981            1\n",
      "10          1985            1\n",
      "11          1986            2\n",
      "12          1988            2\n",
      "13          1989            1\n",
      "14          1990            3\n",
      "15          1991            1\n",
      "16          1992            3\n",
      "17          1993            4\n",
      "18          1994            2\n",
      "19          1995            2\n",
      "20          1996            3\n",
      "21          1997            4\n",
      "22          1998            4\n",
      "23          1999            7\n",
      "24          2000            4\n",
      "25          2001            5\n",
      "26          2002            7\n",
      "27          2003            8\n",
      "28          2004            9\n",
      "29          2005           13\n",
      "30          2006           14\n",
      "31          2007           14\n",
      "32          2008           22\n",
      "33          2009           34\n",
      "34          2010           39\n",
      "35          2011           40\n",
      "36          2012           63\n",
      "37          2013           61\n",
      "38          2014           88\n",
      "39          2015          159\n",
      "40          2016          243\n",
      "41          2017          265\n",
      "42          2018          379\n",
      "43          2019          397\n",
      "44          2020          431\n",
      "45          2021          315\n"
     ]
    }
   ],
   "source": [
    "# Group by 'release_year' and count the number of titles per year\n",
    "titles_by_year = nf_df.groupby('release_year').size().reset_index(name='title_count')\n",
    "\n",
    "# Sort the values by 'release_year' in ascending order\n",
    "titles_by_year_sorted = titles_by_year.sort_values(by='release_year')\n",
    "\n",
    "# Display the data to check the changes over the years\n",
    "print(titles_by_year_sorted)"
   ]
  },
  {
   "cell_type": "code",
   "execution_count": 43,
   "id": "22f76cb9-e348-4be3-9ff7-a755b8e7be7c",
   "metadata": {},
   "outputs": [
    {
     "name": "stdout",
     "output_type": "stream",
     "text": [
      "nan\n"
     ]
    }
   ],
   "source": [
    "# average length of movies\n",
    "movies_df = nf_df[nf_df['type'] == 'movie']\n",
    "average_duration = movies_df['duration_min'].mean()\n",
    "print(average_duration)"
   ]
  },
  {
   "cell_type": "code",
   "execution_count": 46,
   "id": "79612378-a855-460a-b973-9f4afd2fbbca",
   "metadata": {},
   "outputs": [
    {
     "data": {
      "text/plain": [
       "Index(['show_id', 'type', 'title', 'director', 'country', 'date_added',\n",
       "       'release_year', 'rating', 'listed_in', 'seasons', 'duration_min',\n",
       "       'decade', 'movie_length_category'],\n",
       "      dtype='object')"
      ]
     },
     "execution_count": 46,
     "metadata": {},
     "output_type": "execute_result"
    }
   ],
   "source": [
    "nf_df.columns"
   ]
  },
  {
   "cell_type": "markdown",
   "id": "5cec9e49-4848-41d8-a4b3-45c0cf55b408",
   "metadata": {},
   "source": [
    "# Data visualization"
   ]
  },
  {
   "cell_type": "code",
   "execution_count": 13,
   "id": "948538fb-442c-4a68-a39f-c05567634ae6",
   "metadata": {
    "scrolled": true
   },
   "outputs": [
    {
     "data": {
      "text/html": [
       "<div>\n",
       "<style scoped>\n",
       "    .dataframe tbody tr th:only-of-type {\n",
       "        vertical-align: middle;\n",
       "    }\n",
       "\n",
       "    .dataframe tbody tr th {\n",
       "        vertical-align: top;\n",
       "    }\n",
       "\n",
       "    .dataframe thead th {\n",
       "        text-align: right;\n",
       "    }\n",
       "</style>\n",
       "<table border=\"1\" class=\"dataframe\">\n",
       "  <thead>\n",
       "    <tr style=\"text-align: right;\">\n",
       "      <th></th>\n",
       "      <th>show_id</th>\n",
       "      <th>type</th>\n",
       "      <th>title</th>\n",
       "      <th>director</th>\n",
       "      <th>country</th>\n",
       "      <th>date_added</th>\n",
       "      <th>release_year</th>\n",
       "      <th>rating</th>\n",
       "      <th>listed_in</th>\n",
       "      <th>seasons</th>\n",
       "      <th>duration_min</th>\n",
       "      <th>decade</th>\n",
       "      <th>movie_length_category</th>\n",
       "    </tr>\n",
       "  </thead>\n",
       "  <tbody>\n",
       "    <tr>\n",
       "      <th>0</th>\n",
       "      <td>s3</td>\n",
       "      <td>TV Show</td>\n",
       "      <td>Ganglands</td>\n",
       "      <td>Julien Leclercq</td>\n",
       "      <td>France</td>\n",
       "      <td>2021-09-24</td>\n",
       "      <td>2021</td>\n",
       "      <td>TV-MA</td>\n",
       "      <td>Crime TV Shows, International TV Shows, TV Act...</td>\n",
       "      <td>1.0</td>\n",
       "      <td>0.0</td>\n",
       "      <td>2020</td>\n",
       "      <td>Short</td>\n",
       "    </tr>\n",
       "    <tr>\n",
       "      <th>1</th>\n",
       "      <td>s6</td>\n",
       "      <td>TV Show</td>\n",
       "      <td>Midnight Mass</td>\n",
       "      <td>Mike Flanagan</td>\n",
       "      <td>United States</td>\n",
       "      <td>2021-09-24</td>\n",
       "      <td>2021</td>\n",
       "      <td>TV-MA</td>\n",
       "      <td>TV Dramas, TV Horror, TV Mysteries</td>\n",
       "      <td>1.0</td>\n",
       "      <td>0.0</td>\n",
       "      <td>2020</td>\n",
       "      <td>Short</td>\n",
       "    </tr>\n",
       "    <tr>\n",
       "      <th>2</th>\n",
       "      <td>s9</td>\n",
       "      <td>TV Show</td>\n",
       "      <td>The Great British Baking Show</td>\n",
       "      <td>Andy Devonshire</td>\n",
       "      <td>United Kingdom</td>\n",
       "      <td>2021-09-24</td>\n",
       "      <td>2021</td>\n",
       "      <td>TV-14</td>\n",
       "      <td>British TV Shows, Reality TV</td>\n",
       "      <td>9.0</td>\n",
       "      <td>0.0</td>\n",
       "      <td>2020</td>\n",
       "      <td>Short</td>\n",
       "    </tr>\n",
       "    <tr>\n",
       "      <th>3</th>\n",
       "      <td>s4</td>\n",
       "      <td>TV Show</td>\n",
       "      <td>Jailbirds New Orleans</td>\n",
       "      <td>Unknown</td>\n",
       "      <td>Pakistan</td>\n",
       "      <td>2021-09-24</td>\n",
       "      <td>2021</td>\n",
       "      <td>TV-MA</td>\n",
       "      <td>Docuseries, Reality TV</td>\n",
       "      <td>1.0</td>\n",
       "      <td>0.0</td>\n",
       "      <td>2020</td>\n",
       "      <td>Short</td>\n",
       "    </tr>\n",
       "    <tr>\n",
       "      <th>4</th>\n",
       "      <td>s15</td>\n",
       "      <td>TV Show</td>\n",
       "      <td>Crime Stories: India Detectives</td>\n",
       "      <td>Unknown</td>\n",
       "      <td>Pakistan</td>\n",
       "      <td>2021-09-22</td>\n",
       "      <td>2021</td>\n",
       "      <td>TV-MA</td>\n",
       "      <td>British TV Shows, Crime TV Shows, Docuseries</td>\n",
       "      <td>1.0</td>\n",
       "      <td>0.0</td>\n",
       "      <td>2020</td>\n",
       "      <td>Short</td>\n",
       "    </tr>\n",
       "  </tbody>\n",
       "</table>\n",
       "</div>"
      ],
      "text/plain": [
       "  show_id     type                            title         director  \\\n",
       "0      s3  TV Show                        Ganglands  Julien Leclercq   \n",
       "1      s6  TV Show                    Midnight Mass    Mike Flanagan   \n",
       "2      s9  TV Show    The Great British Baking Show  Andy Devonshire   \n",
       "3      s4  TV Show            Jailbirds New Orleans          Unknown   \n",
       "4     s15  TV Show  Crime Stories: India Detectives          Unknown   \n",
       "\n",
       "          country  date_added  release_year rating  \\\n",
       "0          France  2021-09-24          2021  TV-MA   \n",
       "1   United States  2021-09-24          2021  TV-MA   \n",
       "2  United Kingdom  2021-09-24          2021  TV-14   \n",
       "3        Pakistan  2021-09-24          2021  TV-MA   \n",
       "4        Pakistan  2021-09-22          2021  TV-MA   \n",
       "\n",
       "                                           listed_in  seasons  duration_min  \\\n",
       "0  Crime TV Shows, International TV Shows, TV Act...      1.0           0.0   \n",
       "1                 TV Dramas, TV Horror, TV Mysteries      1.0           0.0   \n",
       "2                       British TV Shows, Reality TV      9.0           0.0   \n",
       "3                             Docuseries, Reality TV      1.0           0.0   \n",
       "4       British TV Shows, Crime TV Shows, Docuseries      1.0           0.0   \n",
       "\n",
       "   decade movie_length_category  \n",
       "0    2020                 Short  \n",
       "1    2020                 Short  \n",
       "2    2020                 Short  \n",
       "3    2020                 Short  \n",
       "4    2020                 Short  "
      ]
     },
     "execution_count": 13,
     "metadata": {},
     "output_type": "execute_result"
    }
   ],
   "source": [
    "import pandas as pd\n",
    "import matplotlib.pyplot as plt\n",
    "import seaborn as sns\n",
    "\n",
    "file_path = (r'C:\\Users\\arailym\\PycharmProjects\\database analysis\\data\\netflix_data_analysis_cleaned_and_transformed.csv')\n",
    "nf_df = pd.read_csv(file_path)\n",
    "nf_df.head()"
   ]
  },
  {
   "cell_type": "code",
   "execution_count": 38,
   "id": "bb6b8737-19bd-4479-95dd-a143c4c16c63",
   "metadata": {},
   "outputs": [
    {
     "data": {
      "image/png": "[encoded data removed]",
      "text/plain": [
       "<Figure size 800x400 with 1 Axes>"
      ]
     },
     "metadata": {},
     "output_type": "display_data"
    }
   ],
   "source": [
    "# top 5 genres \n",
    "genres = ['International TV Shows', 'TV Dramas', 'TV Comedies', 'Crime TV Shows', \"Kids' TV\"]\n",
    "title_counts = [1348, 761, 573, 468, 447]\n",
    "\n",
    "# Create bar chart\n",
    "plt.figure(figsize=(8, 4))  # Set figure size\n",
    "plt.bar(genres, title_counts, color='skyblue')  # Bar chart\n",
    "\n",
    "# Add title and labels\n",
    "plt.title('Top 5 Genres Based on Number of Titles', fontsize=14)\n",
    "plt.xlabel('Genres', fontsize=10)\n",
    "plt.ylabel('Number of Titles', fontsize=10)\n",
    "\n",
    "# Show plot\n",
    "plt.tight_layout()\n",
    "plt.show()"
   ]
  },
  {
   "cell_type": "code",
   "execution_count": 39,
   "id": "c6fe37cb-9991-42b2-a9e0-0d3196de92e5",
   "metadata": {},
   "outputs": [
    {
     "data": {
      "image/png": "[encoded data removed]",
      "text/plain": [
       "<Figure size 1000x600 with 1 Axes>"
      ]
     },
     "metadata": {},
     "output_type": "display_data"
    }
   ],
   "source": [
    "# top 10 country contribution\n",
    "\n",
    "country_data = {\n",
    "    'country': ['United States', 'Pakistan', 'United Kingdom', 'Japan', 'South Korea',\n",
    "                'Canada', 'India', 'Taiwan', 'France', 'Australia'],\n",
    "    'country_count': [845, 346, 249, 172, 165, 83, 81, 70, 65, 53]\n",
    "}\n",
    "\n",
    "# Create a DataFrame\n",
    "country_df = pd.DataFrame(country_data)\n",
    "\n",
    "# Sort the DataFrame in descending order based on 'country_count'\n",
    "country_df = country_df.sort_values(by='country_count', ascending=False)\n",
    "\n",
    "# Create a horizontal bar chart\n",
    "plt.figure(figsize=(10, 6))\n",
    "plt.barh(country_df['country'], country_df['country_count'], color='skyblue')\n",
    "\n",
    "# Add labels and title\n",
    "plt.xlabel('Number of Titles', fontsize=10)\n",
    "plt.ylabel('Country', fontsize=10)\n",
    "plt.title('Top 10 Countries by Number of Titles', fontsize=14)\n",
    "\n",
    "# Invert the y-axis to display the largest count at the top\n",
    "plt.gca().invert_yaxis()\n",
    "\n",
    "# Show the plot\n",
    "plt.tight_layout()\n",
    "plt.show()"
   ]
  },
  {
   "cell_type": "code",
   "execution_count": 41,
   "id": "28ac6dc9-a8a3-4058-84ad-f2e9ed1fa717",
   "metadata": {},
   "outputs": [
    {
     "data": {
      "image/png": "[encoded data removed]",
      "text/plain": [
       "<Figure size 800x800 with 1 Axes>"
      ]
     },
     "metadata": {},
     "output_type": "display_data"
    }
   ],
   "source": [
    "# Rating distribution\n",
    "\n",
    "data = {\n",
    "    'type': ['TV Show', 'TV Show', 'TV Show', 'TV Show', 'TV Show', 'TV Show', 'TV Show', 'TV Show', 'TV Show'],\n",
    "    'rating': ['NR', 'R', 'TV-14', 'TV-G', 'TV-MA', 'TV-PG', 'TV-Y', 'TV-Y7', 'TV-Y7-FV'],\n",
    "    'count': [4, 2, 730, 94, 1141, 320, 175, 192, 1]\n",
    "}\n",
    "\n",
    "# Create a DataFrame\n",
    "df = pd.DataFrame(data)\n",
    "\n",
    "# Create a pie chart\n",
    "plt.figure(figsize=(8, 8))\n",
    "plt.pie(df['count'], labels=df['rating'], autopct='%1.1f%%', startangle=90, colors=plt.cm.Paired.colors)\n",
    "\n",
    "# Add title\n",
    "plt.title('Distribution of Content Ratings for TV Shows', fontsize=14)\n",
    "\n",
    "# Show the plot\n",
    "plt.show()"
   ]
  },
  {
   "cell_type": "code",
   "execution_count": 42,
   "id": "0b336c30-a992-4bc0-8ffc-091adbc3ae75",
   "metadata": {},
   "outputs": [
    {
     "data": {
      "image/png": "[encoded data removed]",
      "text/plain": [
       "<Figure size 1000x600 with 1 Axes>"
      ]
     },
     "metadata": {},
     "output_type": "display_data"
    }
   ],
   "source": [
    "# Trend analysis\n",
    "\n",
    "data = {\n",
    "    'release_year': [1925, 1945, 1946, 1963, 1967, 1972, 1974, 1977, 1979, 1981, \n",
    "                     1985, 1986, 1988, 1989, 1990, 1991, 1992, 1993, 1994, 1995, \n",
    "                     1996, 1997, 1998, 1999, 2000, 2001, 2002, 2003, 2004, 2005, \n",
    "                     2006, 2007, 2008, 2009, 2010, 2011, 2012, 2013, 2014, 2015, \n",
    "                     2016, 2017, 2018, 2019, 2020, 2021],\n",
    "    'title_count': [1, 1, 1, 1, 1, 1, 1, 1, 1, 1, \n",
    "                    1, 2, 2, 1, 3, 1, 3, 4, 2, 2, \n",
    "                    3, 4, 4, 7, 4, 5, 7, 8, 9, 13, \n",
    "                    14, 14, 22, 34, 39, 40, 63, 61, 88, 159, \n",
    "                    243, 265, 379, 397, 431, 315]\n",
    "}\n",
    "\n",
    "# Create a DataFrame\n",
    "df = pd.DataFrame(data)\n",
    "\n",
    "# Create a line plot\n",
    "plt.figure(figsize=(10, 6))\n",
    "plt.plot(df['release_year'], df['title_count'], marker='o', color='b')\n",
    "\n",
    "# Add labels and title\n",
    "plt.xlabel('Release Year', fontsize=12)\n",
    "plt.ylabel('Number of Titles Added', fontsize=12)\n",
    "plt.title('Number of Titles Added to Netflix Over Time', fontsize=16)\n",
    "\n",
    "# Add grid for better readability\n",
    "plt.grid(True)\n",
    "\n",
    "# Show the plot\n",
    "plt.tight_layout()\n",
    "plt.show()"
   ]
  },
  {
   "cell_type": "code",
   "execution_count": 45,
   "id": "a12e6cfd-626e-4583-8055-2b204a7f5754",
   "metadata": {},
   "outputs": [
    {
     "data": {
      "image/png": "[encoded data removed]",
      "text/plain": [
       "<Figure size 1000x500 with 1 Axes>"
      ]
     },
     "metadata": {},
     "output_type": "display_data"
    }
   ],
   "source": [
    "import pandas as pd\n",
    "from wordcloud import WordCloud\n",
    "import matplotlib.pyplot as plt\n",
    "\n",
    "# Sample data - replace this with your actual data\n",
    "data = {\n",
    "    'director': ['Alastair Fothergill', 'Mark Thornton', 'Todd Kauffman', 'Stan Lathan',\n",
    "                 'Alastair Fothergill', 'Alastair Fothergill'],\n",
    "    'genre': ['Documentary', 'Adventure', 'Family', 'Drama',\n",
    "              'Adventure', 'Documentary']\n",
    "}\n",
    "\n",
    "# Create a DataFrame\n",
    "df = pd.DataFrame(data)\n",
    "\n",
    "# Filter genres for the top director\n",
    "top_director = 'Alastair Fothergill'\n",
    "genres = df[df['director'] == top_director]['genre']\n",
    "\n",
    "# Create a string of genres for the word cloud\n",
    "genres_string = ' '.join(genres)\n",
    "\n",
    "# Generate the word cloud\n",
    "wordcloud = WordCloud(width=800, height=400, background_color='white').generate(genres_string)\n",
    "\n",
    "# Display the word cloud\n",
    "plt.figure(figsize=(10, 5))\n",
    "plt.imshow(wordcloud, interpolation='bilinear')\n",
    "plt.axis('off')  # Turn off axis\n",
    "plt.title(f'Word Cloud of Genres for {top_director}', fontsize=16)\n",
    "plt.show()\n"
   ]
  },
  {
   "cell_type": "code",
   "execution_count": null,
   "id": "6ad165e7-4dd8-4bb4-b160-fb9f34389c25",
   "metadata": {},
   "outputs": [],
   "source": []
  }
 ],
 "metadata": {
  "kernelspec": {
   "display_name": "Python 3 (ipykernel)",
   "language": "python",
   "name": "python3"
  },
  "language_info": {
   "codemirror_mode": {
    "name": "ipython",
    "version": 3
   },
   "file_extension": ".py",
   "mimetype": "text/x-python",
   "name": "python",
   "nbconvert_exporter": "python",
   "pygments_lexer": "ipython3",
   "version": "3.12.5"
  }
 },
 "nbformat": 4,
 "nbformat_minor": 5
}
