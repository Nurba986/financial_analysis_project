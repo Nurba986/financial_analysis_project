{
 "cells": [
  {
   "cell_type": "code",
   "execution_count": 10,
   "metadata": {},
   "outputs": [],
   "source": [
    "# Libraries \n",
    "import pandas as pd\n",
    "\n",
    "# Files imported \n",
    "ind_name = pd.read_csv(r'C:\\Users\\arailym\\DB_Projects\\financial-analysis-project\\data\\raw_data\\earnings\\indname.csv')"
   ]
  },
  {
   "cell_type": "code",
   "execution_count": 11,
   "metadata": {},
   "outputs": [
    {
     "name": "stdout",
     "output_type": "stream",
     "text": [
      "<class 'pandas.core.frame.DataFrame'>\n",
      "RangeIndex: 47698 entries, 0 to 47697\n",
      "Data columns (total 8 columns):\n",
      " #   Column          Non-Null Count  Dtype \n",
      "---  ------          --------------  ----- \n",
      " 0   Company Name    47698 non-null  object\n",
      " 1   Exchange        47682 non-null  object\n",
      " 2   Ticker          47681 non-null  object\n",
      " 3   Industry Group  47681 non-null  object\n",
      " 4   Primary Sector  47698 non-null  object\n",
      " 5   SIC Code        47698 non-null  int64 \n",
      " 6   Country         47698 non-null  object\n",
      " 7   Broad Group     47698 non-null  object\n",
      "dtypes: int64(1), object(7)\n",
      "memory usage: 2.9+ MB\n"
     ]
    }
   ],
   "source": [
    "ind_name.shape\n",
    "ind_name.info()"
   ]
  },
  {
   "cell_type": "code",
   "execution_count": 12,
   "metadata": {},
   "outputs": [
    {
     "data": {
      "text/html": [
       "<div>\n",
       "<style scoped>\n",
       "    .dataframe tbody tr th:only-of-type {\n",
       "        vertical-align: middle;\n",
       "    }\n",
       "\n",
       "    .dataframe tbody tr th {\n",
       "        vertical-align: top;\n",
       "    }\n",
       "\n",
       "    .dataframe thead th {\n",
       "        text-align: right;\n",
       "    }\n",
       "</style>\n",
       "<table border=\"1\" class=\"dataframe\">\n",
       "  <thead>\n",
       "    <tr style=\"text-align: right;\">\n",
       "      <th></th>\n",
       "      <th>Company Name</th>\n",
       "      <th>Exchange</th>\n",
       "      <th>Ticker</th>\n",
       "      <th>Industry Group</th>\n",
       "      <th>Primary Sector</th>\n",
       "      <th>SIC Code</th>\n",
       "      <th>Country</th>\n",
       "      <th>Broad Group</th>\n",
       "    </tr>\n",
       "  </thead>\n",
       "  <tbody>\n",
       "    <tr>\n",
       "      <th>0</th>\n",
       "      <td>1000mercis (ENXTPA:ALMIL)</td>\n",
       "      <td>ENXTPA</td>\n",
       "      <td>ALMIL</td>\n",
       "      <td>Advertising</td>\n",
       "      <td>Communication Services</td>\n",
       "      <td>7310</td>\n",
       "      <td>France</td>\n",
       "      <td>Developed Europe</td>\n",
       "    </tr>\n",
       "    <tr>\n",
       "      <th>1</th>\n",
       "      <td>4imprint Group plc (LSE:FOUR)</td>\n",
       "      <td>LSE</td>\n",
       "      <td>FOUR</td>\n",
       "      <td>Advertising</td>\n",
       "      <td>Communication Services</td>\n",
       "      <td>7330</td>\n",
       "      <td>United Kingdom</td>\n",
       "      <td>Developed Europe</td>\n",
       "    </tr>\n",
       "    <tr>\n",
       "      <th>2</th>\n",
       "      <td>Abits Group Inc. (NasdaqCM:ABTS)</td>\n",
       "      <td>NasdaqCM</td>\n",
       "      <td>ABTS</td>\n",
       "      <td>Advertising</td>\n",
       "      <td>Communication Services</td>\n",
       "      <td>7310</td>\n",
       "      <td>Hong Kong</td>\n",
       "      <td>Emerging Markets</td>\n",
       "    </tr>\n",
       "    <tr>\n",
       "      <th>3</th>\n",
       "      <td>Able View Global Inc. (NasdaqCM:ABLV)</td>\n",
       "      <td>NasdaqCM</td>\n",
       "      <td>ABLV</td>\n",
       "      <td>Advertising</td>\n",
       "      <td>Communication Services</td>\n",
       "      <td>8742</td>\n",
       "      <td>China</td>\n",
       "      <td>Emerging Markets</td>\n",
       "    </tr>\n",
       "    <tr>\n",
       "      <th>4</th>\n",
       "      <td>Access Group Holdings Co., Ltd. (TSE:7042)</td>\n",
       "      <td>TSE</td>\n",
       "      <td>7042</td>\n",
       "      <td>Advertising</td>\n",
       "      <td>Communication Services</td>\n",
       "      <td>8742</td>\n",
       "      <td>Japan</td>\n",
       "      <td>Japan</td>\n",
       "    </tr>\n",
       "  </tbody>\n",
       "</table>\n",
       "</div>"
      ],
      "text/plain": [
       "                                 Company Name  Exchange Ticker Industry Group  \\\n",
       "0                   1000mercis (ENXTPA:ALMIL)    ENXTPA  ALMIL    Advertising   \n",
       "1               4imprint Group plc (LSE:FOUR)       LSE   FOUR    Advertising   \n",
       "2            Abits Group Inc. (NasdaqCM:ABTS)  NasdaqCM   ABTS    Advertising   \n",
       "3       Able View Global Inc. (NasdaqCM:ABLV)  NasdaqCM   ABLV    Advertising   \n",
       "4  Access Group Holdings Co., Ltd. (TSE:7042)       TSE   7042    Advertising   \n",
       "\n",
       "           Primary Sector  SIC Code         Country       Broad Group  \n",
       "0  Communication Services      7310          France  Developed Europe  \n",
       "1  Communication Services      7330  United Kingdom  Developed Europe  \n",
       "2  Communication Services      7310       Hong Kong  Emerging Markets  \n",
       "3  Communication Services      8742           China  Emerging Markets  \n",
       "4  Communication Services      8742           Japan             Japan  "
      ]
     },
     "execution_count": 12,
     "metadata": {},
     "output_type": "execute_result"
    }
   ],
   "source": [
    "ind_name.head(5)"
   ]
  },
  {
   "cell_type": "code",
   "execution_count": null,
   "metadata": {},
   "outputs": [
    {
     "name": "stdout",
     "output_type": "stream",
     "text": [
      "                      Company Name  Exchange Ticker Industry Group  \\\n",
      "0                       1000mercis    ENXTPA  ALMIL    Advertising   \n",
      "1               4imprint Group plc       LSE   FOUR    Advertising   \n",
      "2                 Abits Group Inc.  NasdaqCM   ABTS    Advertising   \n",
      "3            Able View Global Inc.  NasdaqCM   ABLV    Advertising   \n",
      "4  Access Group Holdings Co., Ltd.       TSE   7042    Advertising   \n",
      "\n",
      "           Primary Sector  SIC Code         Country       Broad Group  \n",
      "0  Communication Services      7310          France  Developed Europe  \n",
      "1  Communication Services      7330  United Kingdom  Developed Europe  \n",
      "2  Communication Services      7310       Hong Kong  Emerging Markets  \n",
      "3  Communication Services      8742           China  Emerging Markets  \n",
      "4  Communication Services      8742           Japan             Japan  \n"
     ]
    }
   ],
   "source": [
    "# remove right text in brackets in column 'Company name'\n",
    "ind_name['Company Name'] = ind_name['Company Name'].str.replace(r'\\s*\\(.*?\\)', '', regex=True)\n",
    "\n",
    "print(ind_name.head())"
   ]
  },
  {
   "cell_type": "code",
   "execution_count": 15,
   "metadata": {},
   "outputs": [],
   "source": [
    "missing_values = ind_name.isnull().sum()"
   ]
  },
  {
   "cell_type": "code",
   "execution_count": 16,
   "metadata": {},
   "outputs": [],
   "source": [
    "ind_name = ind_name.dropna()"
   ]
  },
  {
   "cell_type": "code",
   "execution_count": 17,
   "metadata": {},
   "outputs": [
    {
     "name": "stdout",
     "output_type": "stream",
     "text": [
      "Table 'ind_name' successfully exported.\n"
     ]
    }
   ],
   "source": [
    "import os\n",
    "from sqlalchemy import create_engine\n",
    "from sqlalchemy.exc import SQLAlchemyError\n",
    "\n",
    "# PostgreSQL credentials\n",
    "username = os.getenv('DB_USERNAME', 'postgres')  \n",
    "password = os.getenv('DB_PASSWORD', 'Aruzhan10')\n",
    "host = os.getenv('DB_HOST', 'localhost')\n",
    "port = os.getenv('DB_PORT', '5432')\n",
    "database = os.getenv('DB_NAME', 'comp_finan')\n",
    "\n",
    "# Create engine for PostgreSQL\n",
    "db_url = f'postgresql://{username}:{password}@{host}:{port}/{database}'\n",
    "engine = create_engine(db_url)\n",
    "\n",
    "# Export ind_name DataFrame to PostgreSQL\n",
    "try:\n",
    "    if not ind_name.empty:\n",
    "        ind_name.to_sql('ind_name', engine, if_exists='replace', index=False)\n",
    "        print(\"Table 'ind_name' successfully exported.\")\n",
    "    else:\n",
    "        print(\"Warning: DataFrame 'ind_name' is empty, skipping export.\")\n",
    "except SQLAlchemyError as e:\n",
    "    print(f\"An error occurred: {e}\")"
   ]
  }
 ],
 "metadata": {
  "kernelspec": {
   "display_name": ".venv",
   "language": "python",
   "name": "python3"
  },
  "language_info": {
   "codemirror_mode": {
    "name": "ipython",
    "version": 3
   },
   "file_extension": ".py",
   "mimetype": "text/x-python",
   "name": "python",
   "nbconvert_exporter": "python",
   "pygments_lexer": "ipython3",
   "version": "3.12.5"
  }
 },
 "nbformat": 4,
 "nbformat_minor": 2
}
